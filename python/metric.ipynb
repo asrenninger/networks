{
 "cells": [
  {
   "cell_type": "code",
   "execution_count": 1,
   "metadata": {},
   "outputs": [],
   "source": [
    "from google.cloud import bigquery\n",
    "\n",
    "bqclient = bigquery.Client.from_service_account_json(\"musa-509-75492c1cf2ae.json\")"
   ]
  },
  {
   "cell_type": "code",
   "execution_count": 3,
   "metadata": {},
   "outputs": [
    {
     "data": {
      "text/plain": [
       "Connection to American Community Survey: 1-Year Estimates: Detailed Tables 5-Year(ID: https://api.census.gov/data/id/ACSDT5Y2018)\n",
       "With MapServer: Census Current (2018) WMS"
      ]
     },
     "execution_count": 3,
     "metadata": {},
     "output_type": "execute_result"
    }
   ],
   "source": [
    "import networkx as nx\n",
    "import pandas as pd\n",
    "import geopandas as gpd\n",
    "import datashader as ds\n",
    "import numpy as np\n",
    "\n",
    "import datashader.transfer_functions as tf\n",
    "import matplotlib.pyplot as plt\n",
    "\n",
    "from datashader.bundling import connect_edges, hammer_bundle\n",
    "from datashader.colors import inferno, viridis\n",
    "from datashader.utils import export_image\n",
    "from datashader.utils import lnglat_to_meters\n",
    "\n",
    "from colorcet import palette\n",
    "from matplotlib import cm\n",
    "\n",
    "import cenpy\n",
    "import imageio\n",
    "\n",
    "acs = cenpy.remote.APIConnection(\"ACSDT5Y2018\")\n",
    "acs.set_mapservice(\"tigerWMS_ACS2018\")"
   ]
  },
  {
   "cell_type": "code",
   "execution_count": 4,
   "metadata": {},
   "outputs": [],
   "source": [
    "def get_edges(fips, month, cbgs):\n",
    "    \n",
    "    job_config = bigquery.QueryJobConfig(\n",
    "        query_parameters=[\n",
    "            bigquery.ScalarQueryParameter(\"fips\", \"STRING\", fips),\n",
    "            bigquery.ScalarQueryParameter(\"month\", \"STRING\", month),\n",
    "        ]\n",
    "    )\n",
    "    \n",
    "    query = f\"\"\"\n",
    "        SELECT poi_cbg, home_cbg, sum(visits) as visits\n",
    "        FROM (SELECT \n",
    "                lpad(CAST(poi_cbg AS STRING), 12, '0') as poi_cbg, \n",
    "                REGEXP_EXTRACT(unnested, '(.*?):') as home_cbg, \n",
    "                CAST(REGEXP_EXTRACT(unnested, ':(.*)') AS NUMERIC) as visits\n",
    "              FROM `tidal-digit-291220.safegraph.2020_{month}`\n",
    "              CROSS JOIN UNNEST(SPLIT(regexp_replace(REPLACE(REPLACE(visitor_home_cbgs, '{{', ''), '}}', ''), '\\\\\"', ''))) as unnested\n",
    "              WHERE SUBSTR(lpad(CAST(poi_cbg AS STRING), 12, '0'), 0, 5) = @fips AND visitor_home_cbgs != '{{}}')\n",
    "        GROUP BY poi_cbg, home_cbg\n",
    "            \"\"\"\n",
    "    \n",
    "    resp = bqclient.query(query, job_config=job_config)\n",
    "    data = resp.to_dataframe()\n",
    "    \n",
    "    edges = data.rename(columns={'poi_cbg': 'focal', \n",
    "                                 'home_cbg': 'target', \n",
    "                                 'visits': 'weight'})\n",
    "\n",
    "    edges['focal'] = edges['focal'].astype('int64')\n",
    "    edges['target'] = edges['target'].astype('int64')\n",
    "    edges['weight'] = edges['weight'].astype('int64')\n",
    "\n",
    "    edges = edges[edges['target'].isin(cbgs)]\n",
    "    edges = edges[edges['weight']>10]\n",
    "    \n",
    "    return edges"
   ]
  },
  {
   "cell_type": "code",
   "execution_count": 5,
   "metadata": {},
   "outputs": [],
   "source": [
    "def get_nodes(fips):\n",
    "    \n",
    "    state = fips[:2]\n",
    "    county = fips[2:]\n",
    "        \n",
    "    where_clause = f\"STATE = {state} AND COUNTY = {county}\"\n",
    "    block_groups = acs.mapservice.layers[10].query(where=where_clause)\n",
    "    \n",
    "    block_groups = block_groups.to_crs(3857)\n",
    "    \n",
    "    nodes = pd.DataFrame({'X': block_groups.centroid.x,\n",
    "                          'Y': block_groups.centroid.y,\n",
    "                          'cbg': block_groups.GEOID.astype('int64')}).set_index('cbg')\n",
    "    \n",
    "    return nodes"
   ]
  },
  {
   "cell_type": "code",
   "execution_count": 25,
   "metadata": {},
   "outputs": [],
   "source": [
    "months = [\"01\", \"02\", \"03\", \"04\", \"05\", \"06\", \"07\", \"08\", \"09\"]\n",
    "FIPS = '42101'"
   ]
  },
  {
   "cell_type": "code",
   "execution_count": 26,
   "metadata": {},
   "outputs": [
    {
     "name": "stderr",
     "output_type": "stream",
     "text": [
      "/Users/andrewrenninger/anaconda3/envs/sandbox/lib/python3.8/site-packages/pyproj/crs/crs.py:53: FutureWarning: '+init=<authority>:<code>' syntax is deprecated. '<authority>:<code>' is the preferred initialization method. When making the change, be mindful of axis order changes: https://pyproj4.github.io/pyproj/stable/gotchas.html#axis-order-changes-in-proj-6\n",
      "  return _prepare_from_string(\" \".join(pjargs))\n"
     ]
    }
   ],
   "source": [
    "nodes = get_nodes(FIPS)"
   ]
  },
  {
   "cell_type": "code",
   "execution_count": 28,
   "metadata": {},
   "outputs": [],
   "source": [
    "edges = list()\n",
    "\n",
    "for month in months:\n",
    "        \n",
    "        temp = get_edges(FIPS, month, nodes.index)\n",
    "        temp['month'] = month\n",
    "        \n",
    "        edges.append(temp)\n",
    "\n",
    "edges = pd.concat(edges, ignore_index=True)"
   ]
  },
  {
   "cell_type": "code",
   "execution_count": 138,
   "metadata": {},
   "outputs": [],
   "source": [
    "density = []\n",
    "\n",
    "for month in months:\n",
    "    \n",
    "    elist = edges[edges['month']==month]\n",
    "    graph = nx.from_pandas_edgelist(elist, 'focal', 'target', ['weight'])\n",
    "    \n",
    "    density.append(nx.density(graph))"
   ]
  },
  {
   "cell_type": "code",
   "execution_count": 139,
   "metadata": {},
   "outputs": [
    {
     "data": {
      "text/plain": [
       "[<matplotlib.lines.Line2D at 0x7fde06255ac0>]"
      ]
     },
     "execution_count": 139,
     "metadata": {},
     "output_type": "execute_result"
    },
    {
     "data": {
      "image/png": "[encoded data removed]",
      "text/plain": [
       "<Figure size 1152x576 with 1 Axes>"
      ]
     },
     "metadata": {
      "needs_background": "light"
     },
     "output_type": "display_data"
    }
   ],
   "source": [
    "fig, ax = plt.subplots(figsize=(16, 8))\n",
    "\n",
    "ax.plot(density, color=palette['glasbey_bw'][5])"
   ]
  },
  {
   "cell_type": "code",
   "execution_count": 114,
   "metadata": {},
   "outputs": [
    {
     "name": "stderr",
     "output_type": "stream",
     "text": [
      "/Users/andrewrenninger/anaconda3/envs/sandbox/lib/python3.8/site-packages/pyproj/crs/crs.py:53: FutureWarning: '+init=<authority>:<code>' syntax is deprecated. '<authority>:<code>' is the preferred initialization method. When making the change, be mindful of axis order changes: https://pyproj4.github.io/pyproj/stable/gotchas.html#axis-order-changes-in-proj-6\n",
      "  return _prepare_from_string(\" \".join(pjargs))\n",
      "/Users/andrewrenninger/anaconda3/envs/sandbox/lib/python3.8/site-packages/pyproj/crs/crs.py:53: FutureWarning: '+init=<authority>:<code>' syntax is deprecated. '<authority>:<code>' is the preferred initialization method. When making the change, be mindful of axis order changes: https://pyproj4.github.io/pyproj/stable/gotchas.html#axis-order-changes-in-proj-6\n",
      "  return _prepare_from_string(\" \".join(pjargs))\n",
      "/Users/andrewrenninger/anaconda3/envs/sandbox/lib/python3.8/site-packages/pyproj/crs/crs.py:53: FutureWarning: '+init=<authority>:<code>' syntax is deprecated. '<authority>:<code>' is the preferred initialization method. When making the change, be mindful of axis order changes: https://pyproj4.github.io/pyproj/stable/gotchas.html#axis-order-changes-in-proj-6\n",
      "  return _prepare_from_string(\" \".join(pjargs))\n",
      "/Users/andrewrenninger/anaconda3/envs/sandbox/lib/python3.8/site-packages/pyproj/crs/crs.py:53: FutureWarning: '+init=<authority>:<code>' syntax is deprecated. '<authority>:<code>' is the preferred initialization method. When making the change, be mindful of axis order changes: https://pyproj4.github.io/pyproj/stable/gotchas.html#axis-order-changes-in-proj-6\n",
      "  return _prepare_from_string(\" \".join(pjargs))\n",
      "/Users/andrewrenninger/anaconda3/envs/sandbox/lib/python3.8/site-packages/pyproj/crs/crs.py:53: FutureWarning: '+init=<authority>:<code>' syntax is deprecated. '<authority>:<code>' is the preferred initialization method. When making the change, be mindful of axis order changes: https://pyproj4.github.io/pyproj/stable/gotchas.html#axis-order-changes-in-proj-6\n",
      "  return _prepare_from_string(\" \".join(pjargs))\n",
      "/Users/andrewrenninger/anaconda3/envs/sandbox/lib/python3.8/site-packages/pyproj/crs/crs.py:53: FutureWarning: '+init=<authority>:<code>' syntax is deprecated. '<authority>:<code>' is the preferred initialization method. When making the change, be mindful of axis order changes: https://pyproj4.github.io/pyproj/stable/gotchas.html#axis-order-changes-in-proj-6\n",
      "  return _prepare_from_string(\" \".join(pjargs))\n",
      "/Users/andrewrenninger/anaconda3/envs/sandbox/lib/python3.8/site-packages/pyproj/crs/crs.py:53: FutureWarning: '+init=<authority>:<code>' syntax is deprecated. '<authority>:<code>' is the preferred initialization method. When making the change, be mindful of axis order changes: https://pyproj4.github.io/pyproj/stable/gotchas.html#axis-order-changes-in-proj-6\n",
      "  return _prepare_from_string(\" \".join(pjargs))\n",
      "/Users/andrewrenninger/anaconda3/envs/sandbox/lib/python3.8/site-packages/pyproj/crs/crs.py:53: FutureWarning: '+init=<authority>:<code>' syntax is deprecated. '<authority>:<code>' is the preferred initialization method. When making the change, be mindful of axis order changes: https://pyproj4.github.io/pyproj/stable/gotchas.html#axis-order-changes-in-proj-6\n",
      "  return _prepare_from_string(\" \".join(pjargs))\n"
     ]
    }
   ],
   "source": [
    "all_fips = ['11001', '36061', '17031', '06037', '42101', '48201', '04013', '12086']\n",
    "\n",
    "densities = list()\n",
    "\n",
    "for fips in all_fips:\n",
    "    \n",
    "    density = []\n",
    "    \n",
    "    nlist = get_nodes(fips)\n",
    "    \n",
    "    for month in months:\n",
    "        \n",
    "        elist = get_edges(fips, month, nlist.index)\n",
    "        graph = nx.from_pandas_edgelist(elist, 'focal', 'target', ['weight'])\n",
    "        \n",
    "        density.append(nx.density(graph))\n",
    "        \n",
    "    density = pd.DataFrame({'fips': fips,\n",
    "                            'density': density})\n",
    "    \n",
    "    densities.append(density)\n",
    "    \n",
    "densities = pd.concat(densities, ignore_index=True)    "
   ]
  },
  {
   "cell_type": "code",
   "execution_count": 140,
   "metadata": {},
   "outputs": [
    {
     "data": {
      "text/plain": [
       "Text(0.5, 0.05, 'Density is defined as m / n (n - 1) where m is the number of edges and n is then number of nodes.')"
      ]
     },
     "execution_count": 140,
     "metadata": {},
     "output_type": "execute_result"
    },
    {
     "data": {
      "image/png": "[encoded data removed]",
      "text/plain": [
       "<Figure size 1152x576 with 2 Axes>"
      ]
     },
     "metadata": {
      "needs_background": "light"
     },
     "output_type": "display_data"
    }
   ],
   "source": [
    "fig, axs = plt.subplots(1, 2, figsize=(16, 8))\n",
    "\n",
    "for i in np.arange(0, len(densities.fips.unique())):\n",
    "    \n",
    "    fips = all_fips[i]\n",
    "    labs = ['District of Columbia', 'Manhattan', 'Chicago', 'Los Angeles', 'Philadelphia', 'Houston', 'Phoenix', 'Miami']\n",
    "    temp = densities[densities['fips']==fips].reset_index()\n",
    "    \n",
    "    axs[0].set_title('Raw value')\n",
    "    axs[0].step(x=temp.index, y=temp['density'], color=palette['glasbey_bw'][i], label=labs[i])\n",
    "\n",
    "for i in np.arange(0, len(densities.fips.unique())):\n",
    "    \n",
    "    fips = all_fips[i]\n",
    "    labs = ['District of Columbia', 'Manhattan', 'Chicago', 'Los Angeles', 'Philadelphia', 'Houston', 'Phoenix', 'Miami']\n",
    "    temp = densities[densities['fips']==fips].reset_index()\n",
    "    \n",
    "    axs[1].set_title('Decline')\n",
    "    axs[1].step(x=temp.index, y=temp['density'] - temp['density'].max(), color=palette['glasbey_bw'][i], label=labs[i])\n",
    "    \n",
    "axs[0].legend()\n",
    "\n",
    "fig.suptitle('Network Density', fontsize=16, weight='bold')\n",
    "fig.text(0.5, 0.05, \"Density is defined as m / n (n - 1) where m is the number of edges and n is then number of nodes.\", ha='center')\n"
   ]
  },
  {
   "cell_type": "code",
   "execution_count": null,
   "metadata": {},
   "outputs": [],
   "source": []
  }
 ],
 "metadata": {
  "kernelspec": {
   "display_name": "Python 3",
   "language": "python",
   "name": "python3"
  },
  "language_info": {
   "codemirror_mode": {
    "name": "ipython",
    "version": 3
   },
   "file_extension": ".py",
   "mimetype": "text/x-python",
   "name": "python",
   "nbconvert_exporter": "python",
   "pygments_lexer": "ipython3",
   "version": "3.8.6"
  }
 },
 "nbformat": 4,
 "nbformat_minor": 4
}
